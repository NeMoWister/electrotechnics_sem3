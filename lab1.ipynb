{
 "cells": [
  {
   "cell_type": "code",
   "execution_count": 72,
   "metadata": {},
   "outputs": [
    {
     "name": "stdout",
     "output_type": "stream",
     "text": [
      "Константы:\n"
     ]
    },
    {
     "data": {
      "text/latex": [
       "$\\displaystyle R1 = 6$"
      ],
      "text/plain": [
       "<IPython.core.display.Math object>"
      ]
     },
     "metadata": {},
     "output_type": "display_data"
    },
    {
     "data": {
      "text/latex": [
       "$\\displaystyle R2 = 36$"
      ],
      "text/plain": [
       "<IPython.core.display.Math object>"
      ]
     },
     "metadata": {},
     "output_type": "display_data"
    },
    {
     "data": {
      "text/latex": [
       "$\\displaystyle R3 = 5$"
      ],
      "text/plain": [
       "<IPython.core.display.Math object>"
      ]
     },
     "metadata": {},
     "output_type": "display_data"
    },
    {
     "data": {
      "text/latex": [
       "$\\displaystyle R4 = 8$"
      ],
      "text/plain": [
       "<IPython.core.display.Math object>"
      ]
     },
     "metadata": {},
     "output_type": "display_data"
    },
    {
     "data": {
      "text/latex": [
       "$\\displaystyle R5 = 2$"
      ],
      "text/plain": [
       "<IPython.core.display.Math object>"
      ]
     },
     "metadata": {},
     "output_type": "display_data"
    },
    {
     "data": {
      "text/latex": [
       "$\\displaystyle R6 = 78$"
      ],
      "text/plain": [
       "<IPython.core.display.Math object>"
      ]
     },
     "metadata": {},
     "output_type": "display_data"
    },
    {
     "data": {
      "text/latex": [
       "$\\displaystyle R7 = 40$"
      ],
      "text/plain": [
       "<IPython.core.display.Math object>"
      ]
     },
     "metadata": {},
     "output_type": "display_data"
    },
    {
     "data": {
      "text/latex": [
       "$\\displaystyle R8 = 25$"
      ],
      "text/plain": [
       "<IPython.core.display.Math object>"
      ]
     },
     "metadata": {},
     "output_type": "display_data"
    },
    {
     "data": {
      "text/latex": [
       "$\\displaystyle Re = 4$"
      ],
      "text/plain": [
       "<IPython.core.display.Math object>"
      ]
     },
     "metadata": {},
     "output_type": "display_data"
    },
    {
     "data": {
      "text/latex": [
       "$\\displaystyle I0 = 10$"
      ],
      "text/plain": [
       "<IPython.core.display.Math object>"
      ]
     },
     "metadata": {},
     "output_type": "display_data"
    },
    {
     "data": {
      "text/latex": [
       "$\\displaystyle V = 400$"
      ],
      "text/plain": [
       "<IPython.core.display.Math object>"
      ]
     },
     "metadata": {},
     "output_type": "display_data"
    },
    {
     "name": "stdout",
     "output_type": "stream",
     "text": [
      "Составленные уравнения:\n"
     ]
    },
    {
     "data": {
      "text/latex": [
       "$\\displaystyle - i_{1} - i_{2} - i_{6} - i_{7} - i_{8} + 10 = 0$"
      ],
      "text/plain": [
       "Eq(-i1 - i2 - i6 - i7 - i8 + 10, 0)"
      ]
     },
     "metadata": {},
     "output_type": "display_data"
    },
    {
     "data": {
      "text/latex": [
       "$\\displaystyle - i_{5} + i_{6} + i_{7} + i_{8} + ie = 0$"
      ],
      "text/plain": [
       "Eq(-i5 + i6 + i7 + i8 + ie, 0)"
      ]
     },
     "metadata": {},
     "output_type": "display_data"
    },
    {
     "data": {
      "text/latex": [
       "$\\displaystyle i_{1} + i_{2} - i_{3} - i_{4} = 0$"
      ],
      "text/plain": [
       "Eq(i1 + i2 - i3 - i4, 0)"
      ]
     },
     "metadata": {},
     "output_type": "display_data"
    },
    {
     "data": {
      "text/latex": [
       "$\\displaystyle 78 i_{6} - 40 i_{7} = 0$"
      ],
      "text/plain": [
       "Eq(78*i6 - 40*i7, 0)"
      ]
     },
     "metadata": {},
     "output_type": "display_data"
    },
    {
     "data": {
      "text/latex": [
       "$\\displaystyle 40 i_{7} - 25 i_{8} = 0$"
      ],
      "text/plain": [
       "Eq(40*i7 - 25*i8, 0)"
      ]
     },
     "metadata": {},
     "output_type": "display_data"
    },
    {
     "data": {
      "text/latex": [
       "$\\displaystyle - 2 i_{5} - 4 ie = -400$"
      ],
      "text/plain": [
       "Eq(-2*i5 - 4*ie, -400)"
      ]
     },
     "metadata": {},
     "output_type": "display_data"
    },
    {
     "data": {
      "text/latex": [
       "$\\displaystyle - 6 i_{1} + 36 i_{2} = 0$"
      ],
      "text/plain": [
       "Eq(-6*i1 + 36*i2, 0)"
      ]
     },
     "metadata": {},
     "output_type": "display_data"
    },
    {
     "data": {
      "text/latex": [
       "$\\displaystyle - 5 i_{3} + 8 i_{4} = 0$"
      ],
      "text/plain": [
       "Eq(-5*i3 + 8*i4, 0)"
      ]
     },
     "metadata": {},
     "output_type": "display_data"
    },
    {
     "data": {
      "text/latex": [
       "$\\displaystyle - 36 i_{2} - 8 i_{4} + 2 i_{5} + 25 i_{8} = 0$"
      ],
      "text/plain": [
       "Eq(-36*i2 - 8*i4 + 2*i5 + 25*i8, 0)"
      ]
     },
     "metadata": {},
     "output_type": "display_data"
    },
    {
     "name": "stdout",
     "output_type": "stream",
     "text": [
      "Решения:\n"
     ]
    },
    {
     "data": {
      "text/latex": [
       "$\\displaystyle i1 = 10.5278661888518$"
      ],
      "text/plain": [
       "<IPython.core.display.Math object>"
      ]
     },
     "metadata": {},
     "output_type": "display_data"
    },
    {
     "data": {
      "text/latex": [
       "$\\displaystyle i2 = 1.75464436480863$"
      ],
      "text/plain": [
       "<IPython.core.display.Math object>"
      ]
     },
     "metadata": {},
     "output_type": "display_data"
    },
    {
     "data": {
      "text/latex": [
       "$\\displaystyle i3 = 7.55846803302181$"
      ],
      "text/plain": [
       "<IPython.core.display.Math object>"
      ]
     },
     "metadata": {},
     "output_type": "display_data"
    },
    {
     "data": {
      "text/latex": [
       "$\\displaystyle i4 = 4.72404252063863$"
      ],
      "text/plain": [
       "<IPython.core.display.Math object>"
      ]
     },
     "metadata": {},
     "output_type": "display_data"
    },
    {
     "data": {
      "text/latex": [
       "$\\displaystyle i5 = 65.1449929642264$"
      ],
      "text/plain": [
       "<IPython.core.display.Math object>"
      ]
     },
     "metadata": {},
     "output_type": "display_data"
    },
    {
     "data": {
      "text/latex": [
       "$\\displaystyle i6 = -0.376031392695294$"
      ],
      "text/plain": [
       "<IPython.core.display.Math object>"
      ]
     },
     "metadata": {},
     "output_type": "display_data"
    },
    {
     "data": {
      "text/latex": [
       "$\\displaystyle i7 = -0.733261215755823$"
      ],
      "text/plain": [
       "<IPython.core.display.Math object>"
      ]
     },
     "metadata": {},
     "output_type": "display_data"
    },
    {
     "data": {
      "text/latex": [
       "$\\displaystyle i8 = -1.17321794520932$"
      ],
      "text/plain": [
       "<IPython.core.display.Math object>"
      ]
     },
     "metadata": {},
     "output_type": "display_data"
    },
    {
     "data": {
      "text/latex": [
       "$\\displaystyle ie = 67.4275035178868$"
      ],
      "text/plain": [
       "<IPython.core.display.Math object>"
      ]
     },
     "metadata": {},
     "output_type": "display_data"
    }
   ],
   "source": [
    "from sympy import symbols, Eq, solve, linear_eq_to_matrix\n",
    "from sympy import latex\n",
    "from IPython.display import display, Math\n",
    "\n",
    "R1, R2, R3, R4, R5, R6, R7, R8, Re = 6, 36, 5, 8, 2, 78, 40, 25, 4\n",
    "ik = 10\n",
    "V = 400\n",
    "\n",
    "i1, i2, i3, i4, i5, i6, i7, i8, ie = symbols('i1 i2 i3 i4 i5 i6 i7 i8 ie')\n",
    "\n",
    "# Уравнения по 1 закону Кирхгофа (сумма токов в узлах)\n",
    "eq1 = Eq(ik - i1 - i2 - i6 - i7 - i8, 0)\n",
    "eq2 = Eq(i6 + i7 + i8 + ie - i5, 0)\n",
    "eq3 = Eq(i1 + i2 - i3 - i4, 0)\n",
    "\n",
    "# Уравнения по 2 закону Кирхгофа (напряжение в контурах)\n",
    "eq4 = Eq(i6 * R6 - i7 * R7, 0)  # Контур R6 и R7\n",
    "eq5 = Eq(i7 * R7 - i8 * R8, 0)  # Контур R7 и R8\n",
    "eq6 = Eq(-ie * Re - i5 * R5, -V)  # Контур через Re, R5 и источник\n",
    "eq7 = Eq(-i1 * R1 + i2 * R2, 0)  # Контур через R1 и R2\n",
    "eq8 = Eq(-i3 * R3 + i4 * R4, 0)  # Контур через R3 и R4\n",
    "eq9 = Eq(i8 * R8 + i5 * R5 - i4 * R4 - i2 * R2, 0)  # Контур через R8, R5, R4 и R2\n",
    "\n",
    "print('Константы:')\n",
    "constants = {\n",
    "    'R1': R1, 'R2': R2, 'R3': R3, 'R4': R4, 'R5': R5, 'R6': R6, \n",
    "    'R7': R7, 'R8': R8, 'Re': Re, 'I0': I0, 'V': V\n",
    "}\n",
    "\n",
    "for name, value in constants.items():\n",
    "    display(Math(f'{name} = {latex(value)}'))\n",
    "\n",
    "\n",
    "\n",
    "print('Составленные уравнения:')\n",
    "eqs = [eq1, eq2, eq3, eq4, eq5, eq6, eq7, eq8, eq9]\n",
    "\n",
    "\n",
    "for eq in eqs:\n",
    "    display(eq)\n",
    "\n",
    "solution = solve(eqs, [i1, i2, i3, i4, i5, i6, i7, i8, ie])\n",
    "\n",
    "latex_solution = {var: latex(value.evalf()) for var, value in solution.items()}\n",
    "\n",
    "print('Решения:')\n",
    "for var, sol in latex_solution.items():\n",
    "    display(Math(f'{var} = {sol}'))\n"
   ]
  },
  {
   "cell_type": "code",
   "execution_count": null,
   "metadata": {},
   "outputs": [
    {
     "data": {
      "text/plain": [
       "{i1: 5.426553203593524,\n",
       " i2: 0.904425533932254,\n",
       " i3: 3.8959869154004787,\n",
       " i4: 2.434991822125299,\n",
       " i5: 2.446014174982815,\n",
       " i6: 0.6044516083153578,\n",
       " i7: 1.1786806362149478,\n",
       " i8: 1.8858890179439163,\n",
       " ie: -1.2230070874914074}"
      ]
     },
     "execution_count": 73,
     "metadata": {},
     "output_type": "execute_result"
    }
   ],
   "source": [
    "# R1, R2, R3, R4, R5, R6, R7, R8, Re = 6, 36, 5, 8, 2, 78, 40, 25, 4 \n",
    "# I0 = 10  # Ампер\n",
    "# V = 400  # Вольт\n",
    "\n",
    "# по 1 закону: \n",
    "# ik-i1-i2-i6-i7-i8=0, \n",
    "# i6+i7+i8+ie-i5=0, \n",
    "# i1+i2-i3-i4=0\n",
    "\n",
    "# по 2 закону: \n",
    "# i6*r6-i7*r7=0\n",
    "# i7*r7-i8*r8=0\n",
    "# -ie*re-i5*r5=-e\n",
    "# -i1*r1+i2*r2=0\n",
    "# -i3*r3+i4*r4=0\n",
    "# i8*r8+i5*r5-i4*r4-i2*r2=0\n",
    "\n",
    "\n",
    "# оба\n",
    "# {i1: 10.527866188851801, i2: 1.7546443648086334, i3: 7.558468033021805, i4: 4.724042520638628, i5: 65.14499296422638, i6: -0.3760313926952939, i7: -0.7332612157558231, i8: -1.173217945209317, ie: 67.4275035178868}\n",
    "\n",
    "# {i1: 5.101312985258277, i2: 0.8502188308763794, i3: 3.6624811176213266, i4: 2.289050698513329, i5: 62.69897878924356, i6: -0.9804830010106517, i7: -1.911941851970771, i8: -3.0591069631532335, ie: 68.65051060537822}\n",
    "\n",
    "# {i1: 5.426553203593524, i2: 0.904425533932254, i3: 3.8959869154004787, i4: 2.434991822125299, i5: 2.446014174982815, i6: 0.6044516083153578, i7: 1.1786806362149478, i8: 1.8858890179439163, ie: -1.2230070874914074}\n"
   ]
  }
 ],
 "metadata": {
  "kernelspec": {
   "display_name": ".venv",
   "language": "python",
   "name": "python3"
  },
  "language_info": {
   "codemirror_mode": {
    "name": "ipython",
    "version": 3
   },
   "file_extension": ".py",
   "mimetype": "text/x-python",
   "name": "python",
   "nbconvert_exporter": "python",
   "pygments_lexer": "ipython3",
   "version": "3.11.6"
  }
 },
 "nbformat": 4,
 "nbformat_minor": 2
}
